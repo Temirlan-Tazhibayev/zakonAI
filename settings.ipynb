{
 "cells": [
  {
   "cell_type": "code",
   "execution_count": 1,
   "id": "3fedb324-ff2b-47f0-a7fa-bb9800dd062b",
   "metadata": {},
   "outputs": [
    {
     "name": "stdout",
     "output_type": "stream",
     "text": [
      "# conda environments:\n",
      "#\n",
      "                         C:\\Tools\\LLM\\text-generation-webui\\installer_files\\conda\n",
      "                         C:\\Tools\\LLM\\text-generation-webui\\installer_files\\env\n",
      "base                     C:\\Tools\\anaconda3\n",
      "py37                     C:\\Tools\\anaconda3\\envs\\py37\n",
      "python36                 C:\\Tools\\anaconda3\\envs\\python36\n",
      "python37                 C:\\Tools\\anaconda3\\envs\\python37\n",
      "                      *  C:\\Users\\csode\\.git\\github\\zakonAI\\workonmymachine\n",
      "\n"
     ]
    }
   ],
   "source": [
    "!conda env list"
   ]
  },
  {
   "cell_type": "code",
   "execution_count": null,
   "id": "aa9f2f0a-62e6-418a-9c76-9771ca26446b",
   "metadata": {},
   "outputs": [],
   "source": []
  }
 ],
 "metadata": {
  "kernelspec": {
   "display_name": "Python 3 (ipykernel)",
   "language": "python",
   "name": "python3"
  },
  "language_info": {
   "codemirror_mode": {
    "name": "ipython",
    "version": 3
   },
   "file_extension": ".py",
   "mimetype": "text/x-python",
   "name": "python",
   "nbconvert_exporter": "python",
   "pygments_lexer": "ipython3",
   "version": "3.11.11"
  }
 },
 "nbformat": 4,
 "nbformat_minor": 5
}
